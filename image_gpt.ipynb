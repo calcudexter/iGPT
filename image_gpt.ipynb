{
  "nbformat": 4,
  "nbformat_minor": 0,
  "metadata": {
    "colab": {
      "name": "voldemort_image_gpt.ipynb",
      "provenance": [],
      "collapsed_sections": []
    },
    "kernelspec": {
      "name": "python3",
      "display_name": "Python 3"
    },
    "language_info": {
      "name": "python"
    },
    "accelerator": "GPU"
  },
  "cells": [
    {
      "cell_type": "code",
      "metadata": {
        "id": "OzDBpOQVc6Bb",
        "colab": {
          "base_uri": "https://localhost:8080/"
        },
        "outputId": "197d35ef-8802-441d-aa8f-b2c6db2ad009"
      },
      "source": [
        "!mkdir variables && mv variables.* variables"
      ],
      "execution_count": 1,
      "outputs": [
        {
          "output_type": "stream",
          "name": "stdout",
          "text": [
            "mkdir: cannot create directory ‘variables’: File exists\n"
          ]
        }
      ]
    },
    {
      "cell_type": "markdown",
      "metadata": {
        "id": "oVU1MoXP9QoV"
      },
      "source": [
        "## The GPT-2 Decoder Only Architecture  \n",
        "<img src=\"https://i.stack.imgur.com/Kb8Gq.png\" height=500 />"
      ]
    },
    {
      "cell_type": "code",
      "metadata": {
        "colab": {
          "base_uri": "https://localhost:8080/"
        },
        "id": "F1bboDCHXAgX",
        "outputId": "a3c9f894-898a-45e2-d253-3d8105909504"
      },
      "source": [
        "!pip install tensorflow-addons"
      ],
      "execution_count": 1,
      "outputs": [
        {
          "output_type": "stream",
          "name": "stdout",
          "text": [
            "Collecting tensorflow-addons\n",
            "  Downloading tensorflow_addons-0.15.0-cp37-cp37m-manylinux_2_12_x86_64.manylinux2010_x86_64.whl (1.1 MB)\n",
            "\u001b[K     |████████████████████████████████| 1.1 MB 4.1 MB/s \n",
            "\u001b[?25hRequirement already satisfied: typeguard>=2.7 in /usr/local/lib/python3.7/dist-packages (from tensorflow-addons) (2.7.1)\n",
            "Installing collected packages: tensorflow-addons\n",
            "Successfully installed tensorflow-addons-0.15.0\n"
          ]
        }
      ]
    },
    {
      "cell_type": "code",
      "metadata": {
        "id": "uJJmeI5T9D49"
      },
      "source": [
        "# Hyperparameters\n",
        "\n",
        "npx = 28\n",
        "maxlen = npx*npx\n",
        "embed_dim = 128\n",
        "num_heads = 4\n",
        "num_vocab = 256\n",
        "num_layers = 1\n",
        "\n",
        "num_epochs = 20\n",
        "num_batch = 32"
      ],
      "execution_count": 103,
      "outputs": []
    },
    {
      "cell_type": "code",
      "metadata": {
        "id": "TAZYhOEW9WFy"
      },
      "source": [
        "# Necessary imports\n",
        "\n",
        "import tensorflow as tf\n",
        "from tensorflow import keras\n",
        "from tensorflow.keras import layers\n",
        "import tensorflow_addons as tfa\n",
        "import numpy as np\n",
        "import matplotlib.pyplot as plt\n",
        "import matplotlib as mpl\n",
        "import sys\n",
        "\n",
        "TRAIN = True\n",
        "RETRAIN = False\n",
        "SAVE = False\n",
        "CREATE_NEW = True\n",
        "LOAD = False"
      ],
      "execution_count": 104,
      "outputs": []
    },
    {
      "cell_type": "code",
      "metadata": {
        "id": "VC6roUjVGAim"
      },
      "source": [
        "# One block of the decoder\n",
        "\n",
        "def causal_attention_mask(batch_size, n_dest, n_src, dtype):\n",
        "  i = tf.range(n_dest)[:, None]\n",
        "  j = tf.range(n_src)\n",
        "  m = i >= j - n_src + n_dest\n",
        "  mask = tf.cast(m, dtype)\n",
        "  mask = tf.reshape(mask, [1, n_dest, n_src])\n",
        "  mult = tf.concat(\n",
        "      [tf.expand_dims(batch_size, -1), tf.constant([1, 1], dtype=tf.int32)], 0\n",
        "  )\n",
        "  return tf.tile(mask, mult)\n",
        "\n",
        "class TransformerBlock(layers.Layer):\n",
        "  def __init__(self, embed_dim, num_heads):\n",
        "    super(TransformerBlock, self).__init__()\n",
        "    self.att = layers.MultiHeadAttention(num_heads=num_heads, key_dim=embed_dim)\n",
        "    self.ffn = keras.Sequential(\n",
        "        [layers.Dense(embed_dim*4, activation=\"relu\"),\n",
        "         tfa.layers.GELU(),\n",
        "         layers.Dense(embed_dim, activation=\"relu\")]\n",
        "    )\n",
        "    self.layernorm1 = layers.LayerNormalization(epsilon=1e-6)\n",
        "    self.layernorm2 = layers.LayerNormalization(epsilon=1e-6)\n",
        "\n",
        "  def call(self, inputs):\n",
        "    input_shape = tf.shape(inputs)\n",
        "    batch_size = input_shape[0]\n",
        "    seq_len = input_shape[1]\n",
        "    causal_mask = causal_attention_mask(batch_size, seq_len, seq_len, tf.bool)\n",
        "    attn_output, weights = self.att(inputs, inputs, attention_mask=causal_mask, return_attention_scores=True)\n",
        "    out1 = self.layernorm1(inputs + attn_output)\n",
        "    ffn_output = self.ffn(out1)\n",
        "    return self.layernorm2(out1 + ffn_output)"
      ],
      "execution_count": 105,
      "outputs": []
    },
    {
      "cell_type": "code",
      "metadata": {
        "id": "tH1k2eeRHec0"
      },
      "source": [
        "# Embedding layer\n",
        "\n",
        "class TokenAndPositionEmbedding(layers.Layer):\n",
        "  def __init__(self, maxlen, vocab_size, embed_dim):\n",
        "    super(TokenAndPositionEmbedding, self).__init__()\n",
        "    self.token_emb = layers.Embedding(input_dim=vocab_size, output_dim=embed_dim)\n",
        "    self.pos_emb = layers.Embedding(input_dim=maxlen, output_dim=embed_dim)\n",
        "\n",
        "  def call(self, x):\n",
        "    maxlen = tf.shape(x)[-1]\n",
        "    positions = tf.range(start=0, limit=maxlen, delta=1)\n",
        "    positions = self.pos_emb(positions)\n",
        "    x = self.token_emb(x)\n",
        "    return x + positions"
      ],
      "execution_count": 106,
      "outputs": []
    },
    {
      "cell_type": "code",
      "metadata": {
        "id": "43a-igEdICTv"
      },
      "source": [
        "# Here, I will take a 2d npx*npx sequence as input then train\n",
        "\n",
        "def create_model():\n",
        "  inputs = layers.Input(shape=(maxlen,), dtype=tf.int32)\n",
        "  embedding_layer = TokenAndPositionEmbedding(maxlen, num_vocab, embed_dim)\n",
        "  x = embedding_layer(inputs)\n",
        "  transformer_block = TransformerBlock(embed_dim, num_heads)\n",
        "  for i in range(num_layers):\n",
        "    x = transformer_block(x)\n",
        "  x = layers.LayerNormalization(epsilon=1e-6)(x)\n",
        "  outputs = layers.Dense(num_vocab)(x)\n",
        "  model = keras.Model(inputs=inputs, outputs=[outputs, x])\n",
        "\n",
        "  loss_fn = tf.keras.losses.SparseCategoricalCrossentropy(from_logits=True)\n",
        "\n",
        "  model.compile(\n",
        "      \"adam\", loss=[loss_fn, None],\n",
        "  )   # No loss and optimization based on word embeddings from transformer block\n",
        "  return model"
      ],
      "execution_count": 107,
      "outputs": []
    },
    {
      "cell_type": "code",
      "metadata": {
        "id": "7h5KudfO89t-"
      },
      "source": [
        "if(CREATE_NEW):\n",
        "  model = create_model()\n",
        "elif (LOAD):\n",
        "  model = keras.models.load_model('./')"
      ],
      "execution_count": 108,
      "outputs": []
    },
    {
      "cell_type": "code",
      "metadata": {
        "colab": {
          "base_uri": "https://localhost:8080/"
        },
        "id": "_a-jQCYgKq5H",
        "outputId": "58c6e38c-4af3-4a24-e9f2-258aa854f7d4"
      },
      "source": [
        "model.summary()"
      ],
      "execution_count": 109,
      "outputs": [
        {
          "output_type": "stream",
          "name": "stdout",
          "text": [
            "Model: \"model_2\"\n",
            "_________________________________________________________________\n",
            " Layer (type)                Output Shape              Param #   \n",
            "=================================================================\n",
            " input_3 (InputLayer)        [(None, 784)]             0         \n",
            "                                                                 \n",
            " token_and_position_embeddin  (None, 784, 128)         133120    \n",
            " g_2 (TokenAndPositionEmbedd                                     \n",
            " ing)                                                            \n",
            "                                                                 \n",
            " transformer_block_2 (Transf  (None, 784, 128)         396032    \n",
            " ormerBlock)                                                     \n",
            "                                                                 \n",
            " layer_normalization_8 (Laye  (None, 784, 128)         256       \n",
            " rNormalization)                                                 \n",
            "                                                                 \n",
            " dense_8 (Dense)             (None, 784, 256)          33024     \n",
            "                                                                 \n",
            "=================================================================\n",
            "Total params: 562,432\n",
            "Trainable params: 562,432\n",
            "Non-trainable params: 0\n",
            "_________________________________________________________________\n"
          ]
        }
      ]
    },
    {
      "cell_type": "code",
      "metadata": {
        "colab": {
          "base_uri": "https://localhost:8080/",
          "height": 532
        },
        "id": "LIpKZMQlXiQT",
        "outputId": "146dc595-a174-4a2d-89f8-ccc7dad68f5c"
      },
      "source": [
        "tf.keras.utils.plot_model(model, show_shapes=True)"
      ],
      "execution_count": 110,
      "outputs": [
        {
          "output_type": "execute_result",
          "data": {
            "image/png": "[encoded data removed]",
            "text/plain": [
              "<IPython.core.display.Image object>"
            ]
          },
          "metadata": {},
          "execution_count": 110
        }
      ]
    },
    {
      "cell_type": "code",
      "metadata": {
        "id": "iIJzmJd_F3-V"
      },
      "source": [
        "# The model is fine above below will be the data processing and training\n",
        "# currently let it run on normal mnist data set\n",
        "\n",
        "num_classes = 10\n",
        "input_shape = (npx, npx, 1)\n",
        "\n",
        "(x_train, y_train), (x_test, y_test) = keras.datasets.mnist.load_data()\n",
        "\n",
        "x_train = tf.expand_dims(x_train, axis=-1)\n",
        "x_test = tf.expand_dims(x_test, axis=-1)\n",
        "\n",
        "x_train = x_train[:10000, :]\n",
        "\n",
        "x_train = tf.cast(tf.reshape(x_train, (x_train.shape[0], npx**2)), tf.int32)\n",
        "x_test = tf.cast(tf.reshape(x_test, (x_test.shape[0], npx**2)), tf.int32)\n",
        "\n",
        "y_train = tf.cast(x_train, tf.int32)\n",
        "y_test = tf.cast(x_test, tf.int32)\n",
        "\n",
        "sos = -1*tf.zeros((x_train.shape[0], 1), dtype=tf.int32)\n",
        "x_train = tf.concat([sos, x_train[:, :-1]], 1)\n",
        "x_test = tf.concat([sos, x_test[:, :-1]], 1)\n",
        "\n",
        "# cropping the test images into half and padding the rest with zeros\n",
        "# mask = [1 if i < maxlen//2 else 0 for i in range(maxlen)]\n",
        "# x_test = x_test*mask\n",
        "x_test = x_test[:, :maxlen//2]"
      ],
      "execution_count": 111,
      "outputs": []
    },
    {
      "cell_type": "code",
      "metadata": {
        "colab": {
          "base_uri": "https://localhost:8080/"
        },
        "id": "6hrylrCyLo5X",
        "outputId": "bc87465d-45f0-468f-dfb2-5d6754ffb998"
      },
      "source": [
        "if(TRAIN or RETRAIN):\n",
        "  history = model.fit(\n",
        "      x_train, y_train, batch_size=num_batch, epochs=num_epochs\n",
        "  )"
      ],
      "execution_count": 112,
      "outputs": [
        {
          "output_type": "stream",
          "name": "stdout",
          "text": [
            "Epoch 1/20\n",
            "313/313 [==============================] - 82s 255ms/step - loss: 1.0221 - dense_8_loss: 1.0221\n",
            "Epoch 2/20\n",
            "313/313 [==============================] - 80s 255ms/step - loss: 0.8989 - dense_8_loss: 0.8989\n",
            "Epoch 3/20\n",
            "313/313 [==============================] - 80s 255ms/step - loss: 0.8553 - dense_8_loss: 0.8553\n",
            "Epoch 4/20\n",
            "313/313 [==============================] - 80s 256ms/step - loss: 0.8077 - dense_8_loss: 0.8077\n",
            "Epoch 5/20\n",
            "313/313 [==============================] - 80s 255ms/step - loss: 0.7709 - dense_8_loss: 0.7709\n",
            "Epoch 6/20\n",
            "313/313 [==============================] - 80s 255ms/step - loss: 0.7482 - dense_8_loss: 0.7482\n",
            "Epoch 7/20\n",
            "313/313 [==============================] - 80s 255ms/step - loss: 0.7323 - dense_8_loss: 0.7323\n",
            "Epoch 8/20\n",
            "313/313 [==============================] - 80s 256ms/step - loss: 0.7199 - dense_8_loss: 0.7199\n",
            "Epoch 9/20\n",
            "313/313 [==============================] - 80s 256ms/step - loss: 0.7110 - dense_8_loss: 0.7110\n",
            "Epoch 10/20\n",
            "313/313 [==============================] - 80s 256ms/step - loss: 0.7024 - dense_8_loss: 0.7024\n",
            "Epoch 11/20\n",
            "313/313 [==============================] - 80s 255ms/step - loss: 0.6953 - dense_8_loss: 0.6953\n",
            "Epoch 12/20\n",
            "313/313 [==============================] - 80s 255ms/step - loss: 0.6887 - dense_8_loss: 0.6887\n",
            "Epoch 13/20\n",
            "313/313 [==============================] - 81s 257ms/step - loss: 0.6832 - dense_8_loss: 0.6832\n",
            "Epoch 14/20\n",
            "313/313 [==============================] - 80s 257ms/step - loss: 0.6772 - dense_8_loss: 0.6772\n",
            "Epoch 15/20\n",
            "313/313 [==============================] - 81s 257ms/step - loss: 0.6718 - dense_8_loss: 0.6718\n",
            "Epoch 16/20\n",
            "313/313 [==============================] - 81s 257ms/step - loss: 0.6670 - dense_8_loss: 0.6670\n",
            "Epoch 17/20\n",
            "313/313 [==============================] - 81s 258ms/step - loss: 0.6621 - dense_8_loss: 0.6621\n",
            "Epoch 18/20\n",
            "313/313 [==============================] - 81s 259ms/step - loss: 0.6573 - dense_8_loss: 0.6573\n",
            "Epoch 19/20\n",
            "313/313 [==============================] - 81s 260ms/step - loss: 0.6534 - dense_8_loss: 0.6534\n",
            "Epoch 20/20\n",
            "313/313 [==============================] - 81s 260ms/step - loss: 0.6497 - dense_8_loss: 0.6497\n"
          ]
        }
      ]
    },
    {
      "cell_type": "code",
      "metadata": {
        "id": "bK_LVj0qNajS",
        "colab": {
          "base_uri": "https://localhost:8080/"
        },
        "outputId": "d2e789f3-0884-456a-bfb7-a1d4a5f7acc0"
      },
      "source": [
        "SAVE = True\n",
        "if(SAVE):\n",
        "  model.save('./')"
      ],
      "execution_count": 124,
      "outputs": [
        {
          "output_type": "stream",
          "name": "stderr",
          "text": [
            "WARNING:absl:Found untraced functions such as embedding_4_layer_call_fn, embedding_4_layer_call_and_return_conditional_losses, embedding_5_layer_call_fn, embedding_5_layer_call_and_return_conditional_losses, multi_head_attention_2_layer_call_fn while saving (showing 5 of 55). These functions will not be directly callable after loading.\n"
          ]
        },
        {
          "output_type": "stream",
          "name": "stdout",
          "text": [
            "INFO:tensorflow:Assets written to: ./assets\n"
          ]
        },
        {
          "output_type": "stream",
          "name": "stderr",
          "text": [
            "INFO:tensorflow:Assets written to: ./assets\n"
          ]
        }
      ]
    },
    {
      "cell_type": "code",
      "metadata": {
        "colab": {
          "base_uri": "https://localhost:8080/"
        },
        "id": "OjAvWdYnNzfG",
        "outputId": "1d78a3c0-90cf-4b45-898d-8f752cb94fb4"
      },
      "source": [
        "!ls -lRah"
      ],
      "execution_count": 114,
      "outputs": [
        {
          "output_type": "stream",
          "name": "stdout",
          "text": [
            ".:\n",
            "total 60K\n",
            "drwxr-xr-x 1 root root 4.0K Nov 11 19:21 .\n",
            "drwxr-xr-x 1 root root 4.0K Nov 11 19:05 ..\n",
            "drwxr-xr-x 4 root root 4.0K Nov  1 13:34 .config\n",
            "-rw-r--r-- 1 root root  44K Nov 11 20:08 model.png\n",
            "drwxr-xr-x 1 root root 4.0K Nov  1 13:35 sample_data\n",
            "\n",
            "./.config:\n",
            "total 36K\n",
            "drwxr-xr-x 4 root root 4.0K Nov  1 13:34 .\n",
            "drwxr-xr-x 1 root root 4.0K Nov 11 19:21 ..\n",
            "-rw-r--r-- 1 root root    7 Nov  1 13:34 active_config\n",
            "-rw-r--r-- 1 root root    0 Nov  1 13:34 config_sentinel\n",
            "drwxr-xr-x 2 root root 4.0K Nov  1 13:34 configurations\n",
            "-rw------- 1 root root    5 Jan  1  2040 gce\n",
            "-rw-r--r-- 1 root root    3 Nov  1 13:33 .last_opt_in_prompt.yaml\n",
            "-rw-r--r-- 1 root root   37 Nov  1 13:34 .last_survey_prompt.yaml\n",
            "-rw-r--r-- 1 root root  135 Nov  1 13:34 .last_update_check.json\n",
            "drwxr-xr-x 3 root root 4.0K Nov  1 13:33 logs\n",
            "\n",
            "./.config/configurations:\n",
            "total 12K\n",
            "drwxr-xr-x 2 root root 4.0K Nov  1 13:34 .\n",
            "drwxr-xr-x 4 root root 4.0K Nov  1 13:34 ..\n",
            "-rw-r--r-- 1 root root   94 Nov  1 13:34 config_default\n",
            "\n",
            "./.config/logs:\n",
            "total 12K\n",
            "drwxr-xr-x 3 root root 4.0K Nov  1 13:33 .\n",
            "drwxr-xr-x 4 root root 4.0K Nov  1 13:34 ..\n",
            "drwxr-xr-x 2 root root 4.0K Nov  1 13:34 2021.11.01\n",
            "\n",
            "./.config/logs/2021.11.01:\n",
            "total 64K\n",
            "drwxr-xr-x 2 root root 4.0K Nov  1 13:34 .\n",
            "drwxr-xr-x 3 root root 4.0K Nov  1 13:33 ..\n",
            "-rw-r--r-- 1 root root  28K Nov  1 13:34 13.33.47.856572.log\n",
            "-rw-r--r-- 1 root root  389 Nov  1 13:34 13.34.08.637862.log\n",
            "-rw-r--r-- 1 root root  11K Nov  1 13:34 13.34.28.082269.log\n",
            "-rw-r--r-- 1 root root  389 Nov  1 13:34 13.34.35.080342.log\n",
            "-rw-r--r-- 1 root root  625 Nov  1 13:34 13.34.55.017895.log\n",
            "-rw-r--r-- 1 root root  620 Nov  1 13:34 13.34.55.836922.log\n",
            "\n",
            "./sample_data:\n",
            "total 55M\n",
            "drwxr-xr-x 1 root root 4.0K Nov  1 13:35 .\n",
            "drwxr-xr-x 1 root root 4.0K Nov 11 19:21 ..\n",
            "-rwxr-xr-x 1 root root 1.7K Jan  1  2000 anscombe.json\n",
            "-rw-r--r-- 1 root root 295K Nov  1 13:35 california_housing_test.csv\n",
            "-rw-r--r-- 1 root root 1.7M Nov  1 13:35 california_housing_train.csv\n",
            "-rw-r--r-- 1 root root  18M Nov  1 13:35 mnist_test.csv\n",
            "-rw-r--r-- 1 root root  35M Nov  1 13:35 mnist_train_small.csv\n",
            "-rwxr-xr-x 1 root root  930 Jan  1  2000 README.md\n"
          ]
        }
      ]
    },
    {
      "cell_type": "markdown",
      "metadata": {
        "id": "2mRTEcYbZHk4"
      },
      "source": [
        "## Utility function"
      ]
    },
    {
      "cell_type": "code",
      "metadata": {
        "id": "5Am8E6GvZKb4"
      },
      "source": [
        "def getPixel(oneHots):\n",
        "  \"\"\"Converts a 1-Hot vector to its pixel value\"\"\"\n",
        "  return tf.math.argmax(oneHots, axis=-1)"
      ],
      "execution_count": 115,
      "outputs": []
    },
    {
      "cell_type": "markdown",
      "metadata": {
        "id": "gXbpiAZrdIcq"
      },
      "source": [
        "## Generation"
      ]
    },
    {
      "cell_type": "code",
      "metadata": {
        "id": "3c6dUZAcmT2H"
      },
      "source": [
        "num_samples = 4"
      ],
      "execution_count": 116,
      "outputs": []
    },
    {
      "cell_type": "code",
      "metadata": {
        "colab": {
          "base_uri": "https://localhost:8080/"
        },
        "id": "H5p-2WCaXT75",
        "outputId": "8862a476-4e13-4043-bed0-cf0edf7b9949"
      },
      "source": [
        "# Image generation\n",
        "\n",
        "sample = x_test[:num_samples]\n",
        "\n",
        "sample.shape"
      ],
      "execution_count": 117,
      "outputs": [
        {
          "output_type": "execute_result",
          "data": {
            "text/plain": [
              "TensorShape([4, 392])"
            ]
          },
          "metadata": {},
          "execution_count": 117
        }
      ]
    },
    {
      "cell_type": "code",
      "metadata": {
        "id": "-qhpPYj1iAiC"
      },
      "source": [
        "def predict_rest(context):\n",
        "  \"\"\"This reconstructs one image\"\"\"\n",
        "  start_tokens = [_ for _ in context]\n",
        "  num_tokens_generated = 0\n",
        "  tokens_generated = []\n",
        "  while num_tokens_generated < (maxlen-maxlen//2):\n",
        "    pad_len = maxlen - len(start_tokens)\n",
        "    sample_index = len(start_tokens) - 1\n",
        "    if pad_len < 0:\n",
        "      x = start_tokens[:maxlen]\n",
        "      sample_index = maxlen - 1\n",
        "    elif pad_len > 0:\n",
        "      x = start_tokens + [0] * pad_len\n",
        "    else:\n",
        "      x = start_tokens\n",
        "    x = tf.expand_dims(tf.convert_to_tensor(x, dtype=tf.int64), axis=0)\n",
        "    y, _ = model.predict(x)\n",
        "    sample_token = getPixel(y[0][sample_index])\n",
        "    tokens_generated.append(sample_token)\n",
        "    start_tokens.append(sample_token)\n",
        "    num_tokens_generated = len(tokens_generated)\n",
        "  return start_tokens\n",
        "\n",
        "random_gen = [predict_rest(img) for img in sample]"
      ],
      "execution_count": 118,
      "outputs": []
    },
    {
      "cell_type": "code",
      "metadata": {
        "id": "Iuf7Gy-egKF4"
      },
      "source": [
        "random_gen = [tf.convert_to_tensor(img, dtype=tf.int64).numpy() for img in random_gen]"
      ],
      "execution_count": 119,
      "outputs": []
    },
    {
      "cell_type": "code",
      "metadata": {
        "colab": {
          "base_uri": "https://localhost:8080/"
        },
        "id": "zVY0cBE7hzML",
        "outputId": "e869e21b-fac1-45c6-f7d0-c910ead75b66"
      },
      "source": [
        "tf.convert_to_tensor(random_gen).shape"
      ],
      "execution_count": 120,
      "outputs": [
        {
          "output_type": "execute_result",
          "data": {
            "text/plain": [
              "TensorShape([4, 784])"
            ]
          },
          "metadata": {},
          "execution_count": 120
        }
      ]
    },
    {
      "cell_type": "code",
      "metadata": {
        "id": "35GK_0VoiuNn"
      },
      "source": [
        "reshapes = []\n",
        "\n",
        "for i in range(len(random_gen)):\n",
        "  img = random_gen[i]\n",
        "\n",
        "  img = np.reshape(img, (npx, npx))\n",
        "  reshapes.append(img)\n",
        "\n",
        "reshapes = np.asarray(reshapes)\n",
        "\n",
        "sample = x_test[:num_samples]\n",
        "sample = [list(img) + [0]*(maxlen//2) for img in sample]\n",
        "sample = np.reshape(sample, (len(sample), npx, npx))"
      ],
      "execution_count": 121,
      "outputs": []
    },
    {
      "cell_type": "code",
      "metadata": {
        "colab": {
          "base_uri": "https://localhost:8080/"
        },
        "id": "Q7XtwjWMknyM",
        "outputId": "93194f9a-3552-4315-ec15-9c30cc3cde9b"
      },
      "source": [
        "reshapes.shape"
      ],
      "execution_count": 122,
      "outputs": [
        {
          "output_type": "execute_result",
          "data": {
            "text/plain": [
              "(4, 28, 28)"
            ]
          },
          "metadata": {},
          "execution_count": 122
        }
      ]
    },
    {
      "cell_type": "code",
      "metadata": {
        "colab": {
          "base_uri": "https://localhost:8080/",
          "height": 322
        },
        "id": "htIXHblYelqb",
        "outputId": "de8f6e8e-885b-4abf-ae4d-1e70f508870b"
      },
      "source": [
        "fig = plt.figure(figsize=(9, 5))\n",
        "\n",
        "for i in range(num_samples*2):\n",
        "  sub = fig.add_subplot(num_samples, 2, i+1)\n",
        "  if(i%2):\n",
        "    sub.imshow(reshapes[int(i/2)], cmap='gray')\n",
        "  else:\n",
        "    sub.imshow(sample[int(i/2)], cmap='gray')"
      ],
      "execution_count": 123,
      "outputs": [
        {
          "output_type": "display_data",
          "data": {
            "image/png": "[encoded data removed]",
            "text/plain": [
              "<Figure size 648x360 with 8 Axes>"
            ]
          },
          "metadata": {
            "needs_background": "light"
          }
        }
      ]
    }
  ]
}