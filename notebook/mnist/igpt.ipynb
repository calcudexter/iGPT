{
  "nbformat": 4,
  "nbformat_minor": 0,
  "metadata": {
    "colab": {
      "name": "smol_image_gpt.ipynb",
      "provenance": [],
      "collapsed_sections": []
    },
    "kernelspec": {
      "name": "python3",
      "display_name": "Python 3"
    },
    "language_info": {
      "name": "python"
    },
    "accelerator": "GPU"
  },
  "cells": [
    {
      "cell_type": "markdown",
      "metadata": {
        "id": "P1sS7sIFicsm"
      },
      "source": [
        "## Image GPT \n",
        " * Paper Link : https://cdn.openai.com/papers/Generative_Pretraining_from_Pixels_V2.pdf\n",
        "\n",
        " * Here, we will try to improve the transformer to make it work satisfactorily in lower complexities\n",
        "\n",
        " * Even the smallest model iGPT-S has 76M parameters, so we can try bringing it down to say 30M or less.\n",
        "\n",
        " * Datasets used will be mainly :\n",
        "  - MNIST handwritten digits and fashion\n",
        "  - Tiny ImageNet\n",
        "  - CIFAR 10 & CIFAR 100\n",
        " \n",
        " * This is just a preliminary sketch, please continue further\n",
        "\n",
        "### Thanks for cooperation\n",
        "\n",
        "## PS :\n",
        "GPT - 2 Paper : https://d4mucfpksywv.cloudfront.net/better-language-models/language-models.pdf  \n",
        "GPT Paper : https://s3-us-west-2.amazonaws.com/openai-assets/research-covers/language-unsupervised/language_understanding_paper.pdf  \n",
        "\n",
        "<hr />\n",
        "\n",
        "Ye Paper bhi dekh lo : https://arxiv.org/pdf/1802.05751.pdf"
      ]
    },
    {
      "cell_type": "markdown",
      "metadata": {
        "id": "RG9vq1fCNJY8"
      },
      "source": [
        "### The Transformer Architecture  \n",
        "\n",
        "<img src=\"https://miro.medium.com/max/1838/1*BHzGVskWGS_3jEcYYi6miQ.png\" width=500 />"
      ]
    },
    {
      "cell_type": "markdown",
      "metadata": {
        "id": "c4fy1p_xdft8"
      },
      "source": [
        "## The GPT-2 Decoder Only Architecture  \n",
        "<img src=\"https://i.stack.imgur.com/Kb8Gq.png\" height=500 />"
      ]
    },
    {
      "cell_type": "markdown",
      "metadata": {
        "id": "Ug2US-FLto-m"
      },
      "source": [
        "## Attention :  \n",
        "<img src=\"https://ryanong.co.uk/wp-content/uploads/2020/01/Attention-formula.png\" width=500 />  \n",
        "<br />\n",
        "\n",
        "Q = Query  \n",
        "K = Key  \n",
        "V = Value  \n",
        "\n",
        "d_k = Embedding dimension  \n",
        "\n",
        "Transformer Architecture details : [Ari Seff's Video](https://www.youtube.com/watch?v=XSSTuhyAmnI&list=PLcwMiqcoGw1WiEobtKcPOU7A4iePwOZH_&index=17&t=421s)"
      ]
    },
    {
      "cell_type": "code",
      "metadata": {
        "colab": {
          "base_uri": "https://localhost:8080/"
        },
        "id": "msscgoKOW8MT",
        "outputId": "8d5f4481-c9a6-4cb0-e5a6-0a333b9f61f4"
      },
      "source": [
        "!pip install tensorflow-addons"
      ],
      "execution_count": null,
      "outputs": [
        {
          "output_type": "stream",
          "name": "stdout",
          "text": [
            "Collecting tensorflow-addons\n",
            "  Downloading tensorflow_addons-0.15.0-cp37-cp37m-manylinux_2_12_x86_64.manylinux2010_x86_64.whl (1.1 MB)\n",
            "\u001b[?25l\r\u001b[K     |▎                               | 10 kB 27.5 MB/s eta 0:00:01\r\u001b[K     |▋                               | 20 kB 29.4 MB/s eta 0:00:01\r\u001b[K     |▉                               | 30 kB 21.2 MB/s eta 0:00:01\r\u001b[K     |█▏                              | 40 kB 18.0 MB/s eta 0:00:01\r\u001b[K     |█▌                              | 51 kB 14.5 MB/s eta 0:00:01\r\u001b[K     |█▊                              | 61 kB 12.7 MB/s eta 0:00:01\r\u001b[K     |██                              | 71 kB 12.3 MB/s eta 0:00:01\r\u001b[K     |██▍                             | 81 kB 13.5 MB/s eta 0:00:01\r\u001b[K     |██▋                             | 92 kB 14.3 MB/s eta 0:00:01\r\u001b[K     |███                             | 102 kB 11.1 MB/s eta 0:00:01\r\u001b[K     |███▎                            | 112 kB 11.1 MB/s eta 0:00:01\r\u001b[K     |███▌                            | 122 kB 11.1 MB/s eta 0:00:01\r\u001b[K     |███▉                            | 133 kB 11.1 MB/s eta 0:00:01\r\u001b[K     |████▏                           | 143 kB 11.1 MB/s eta 0:00:01\r\u001b[K     |████▍                           | 153 kB 11.1 MB/s eta 0:00:01\r\u001b[K     |████▊                           | 163 kB 11.1 MB/s eta 0:00:01\r\u001b[K     |█████                           | 174 kB 11.1 MB/s eta 0:00:01\r\u001b[K     |█████▎                          | 184 kB 11.1 MB/s eta 0:00:01\r\u001b[K     |█████▋                          | 194 kB 11.1 MB/s eta 0:00:01\r\u001b[K     |█████▉                          | 204 kB 11.1 MB/s eta 0:00:01\r\u001b[K     |██████▏                         | 215 kB 11.1 MB/s eta 0:00:01\r\u001b[K     |██████▌                         | 225 kB 11.1 MB/s eta 0:00:01\r\u001b[K     |██████▊                         | 235 kB 11.1 MB/s eta 0:00:01\r\u001b[K     |███████                         | 245 kB 11.1 MB/s eta 0:00:01\r\u001b[K     |███████▍                        | 256 kB 11.1 MB/s eta 0:00:01\r\u001b[K     |███████▋                        | 266 kB 11.1 MB/s eta 0:00:01\r\u001b[K     |████████                        | 276 kB 11.1 MB/s eta 0:00:01\r\u001b[K     |████████▎                       | 286 kB 11.1 MB/s eta 0:00:01\r\u001b[K     |████████▌                       | 296 kB 11.1 MB/s eta 0:00:01\r\u001b[K     |████████▉                       | 307 kB 11.1 MB/s eta 0:00:01\r\u001b[K     |█████████                       | 317 kB 11.1 MB/s eta 0:00:01\r\u001b[K     |█████████▍                      | 327 kB 11.1 MB/s eta 0:00:01\r\u001b[K     |█████████▊                      | 337 kB 11.1 MB/s eta 0:00:01\r\u001b[K     |██████████                      | 348 kB 11.1 MB/s eta 0:00:01\r\u001b[K     |██████████▎                     | 358 kB 11.1 MB/s eta 0:00:01\r\u001b[K     |██████████▋                     | 368 kB 11.1 MB/s eta 0:00:01\r\u001b[K     |██████████▉                     | 378 kB 11.1 MB/s eta 0:00:01\r\u001b[K     |███████████▏                    | 389 kB 11.1 MB/s eta 0:00:01\r\u001b[K     |███████████▌                    | 399 kB 11.1 MB/s eta 0:00:01\r\u001b[K     |███████████▊                    | 409 kB 11.1 MB/s eta 0:00:01\r\u001b[K     |████████████                    | 419 kB 11.1 MB/s eta 0:00:01\r\u001b[K     |████████████▍                   | 430 kB 11.1 MB/s eta 0:00:01\r\u001b[K     |████████████▋                   | 440 kB 11.1 MB/s eta 0:00:01\r\u001b[K     |█████████████                   | 450 kB 11.1 MB/s eta 0:00:01\r\u001b[K     |█████████████▎                  | 460 kB 11.1 MB/s eta 0:00:01\r\u001b[K     |█████████████▌                  | 471 kB 11.1 MB/s eta 0:00:01\r\u001b[K     |█████████████▉                  | 481 kB 11.1 MB/s eta 0:00:01\r\u001b[K     |██████████████                  | 491 kB 11.1 MB/s eta 0:00:01\r\u001b[K     |██████████████▍                 | 501 kB 11.1 MB/s eta 0:00:01\r\u001b[K     |██████████████▊                 | 512 kB 11.1 MB/s eta 0:00:01\r\u001b[K     |███████████████                 | 522 kB 11.1 MB/s eta 0:00:01\r\u001b[K     |███████████████▎                | 532 kB 11.1 MB/s eta 0:00:01\r\u001b[K     |███████████████▋                | 542 kB 11.1 MB/s eta 0:00:01\r\u001b[K     |███████████████▉                | 552 kB 11.1 MB/s eta 0:00:01\r\u001b[K     |████████████████▏               | 563 kB 11.1 MB/s eta 0:00:01\r\u001b[K     |████████████████▌               | 573 kB 11.1 MB/s eta 0:00:01\r\u001b[K     |████████████████▊               | 583 kB 11.1 MB/s eta 0:00:01\r\u001b[K     |█████████████████               | 593 kB 11.1 MB/s eta 0:00:01\r\u001b[K     |█████████████████▍              | 604 kB 11.1 MB/s eta 0:00:01\r\u001b[K     |█████████████████▋              | 614 kB 11.1 MB/s eta 0:00:01\r\u001b[K     |██████████████████              | 624 kB 11.1 MB/s eta 0:00:01\r\u001b[K     |██████████████████▏             | 634 kB 11.1 MB/s eta 0:00:01\r\u001b[K     |██████████████████▌             | 645 kB 11.1 MB/s eta 0:00:01\r\u001b[K     |██████████████████▉             | 655 kB 11.1 MB/s eta 0:00:01\r\u001b[K     |███████████████████             | 665 kB 11.1 MB/s eta 0:00:01\r\u001b[K     |███████████████████▍            | 675 kB 11.1 MB/s eta 0:00:01\r\u001b[K     |███████████████████▊            | 686 kB 11.1 MB/s eta 0:00:01\r\u001b[K     |████████████████████            | 696 kB 11.1 MB/s eta 0:00:01\r\u001b[K     |████████████████████▎           | 706 kB 11.1 MB/s eta 0:00:01\r\u001b[K     |████████████████████▋           | 716 kB 11.1 MB/s eta 0:00:01\r\u001b[K     |████████████████████▉           | 727 kB 11.1 MB/s eta 0:00:01\r\u001b[K     |█████████████████████▏          | 737 kB 11.1 MB/s eta 0:00:01\r\u001b[K     |█████████████████████▌          | 747 kB 11.1 MB/s eta 0:00:01\r\u001b[K     |█████████████████████▊          | 757 kB 11.1 MB/s eta 0:00:01\r\u001b[K     |██████████████████████          | 768 kB 11.1 MB/s eta 0:00:01\r\u001b[K     |██████████████████████▎         | 778 kB 11.1 MB/s eta 0:00:01\r\u001b[K     |██████████████████████▋         | 788 kB 11.1 MB/s eta 0:00:01\r\u001b[K     |███████████████████████         | 798 kB 11.1 MB/s eta 0:00:01\r\u001b[K     |███████████████████████▏        | 808 kB 11.1 MB/s eta 0:00:01\r\u001b[K     |███████████████████████▌        | 819 kB 11.1 MB/s eta 0:00:01\r\u001b[K     |███████████████████████▉        | 829 kB 11.1 MB/s eta 0:00:01\r\u001b[K     |████████████████████████        | 839 kB 11.1 MB/s eta 0:00:01\r\u001b[K     |████████████████████████▍       | 849 kB 11.1 MB/s eta 0:00:01\r\u001b[K     |████████████████████████▊       | 860 kB 11.1 MB/s eta 0:00:01\r\u001b[K     |█████████████████████████       | 870 kB 11.1 MB/s eta 0:00:01\r\u001b[K     |█████████████████████████▎      | 880 kB 11.1 MB/s eta 0:00:01\r\u001b[K     |█████████████████████████▋      | 890 kB 11.1 MB/s eta 0:00:01\r\u001b[K     |█████████████████████████▉      | 901 kB 11.1 MB/s eta 0:00:01\r\u001b[K     |██████████████████████████▏     | 911 kB 11.1 MB/s eta 0:00:01\r\u001b[K     |██████████████████████████▌     | 921 kB 11.1 MB/s eta 0:00:01\r\u001b[K     |██████████████████████████▊     | 931 kB 11.1 MB/s eta 0:00:01\r\u001b[K     |███████████████████████████     | 942 kB 11.1 MB/s eta 0:00:01\r\u001b[K     |███████████████████████████▎    | 952 kB 11.1 MB/s eta 0:00:01\r\u001b[K     |███████████████████████████▋    | 962 kB 11.1 MB/s eta 0:00:01\r\u001b[K     |████████████████████████████    | 972 kB 11.1 MB/s eta 0:00:01\r\u001b[K     |████████████████████████████▏   | 983 kB 11.1 MB/s eta 0:00:01\r\u001b[K     |████████████████████████████▌   | 993 kB 11.1 MB/s eta 0:00:01\r\u001b[K     |████████████████████████████▉   | 1.0 MB 11.1 MB/s eta 0:00:01\r\u001b[K     |█████████████████████████████   | 1.0 MB 11.1 MB/s eta 0:00:01\r\u001b[K     |█████████████████████████████▍  | 1.0 MB 11.1 MB/s eta 0:00:01\r\u001b[K     |█████████████████████████████▊  | 1.0 MB 11.1 MB/s eta 0:00:01\r\u001b[K     |██████████████████████████████  | 1.0 MB 11.1 MB/s eta 0:00:01\r\u001b[K     |██████████████████████████████▎ | 1.1 MB 11.1 MB/s eta 0:00:01\r\u001b[K     |██████████████████████████████▋ | 1.1 MB 11.1 MB/s eta 0:00:01\r\u001b[K     |██████████████████████████████▉ | 1.1 MB 11.1 MB/s eta 0:00:01\r\u001b[K     |███████████████████████████████▏| 1.1 MB 11.1 MB/s eta 0:00:01\r\u001b[K     |███████████████████████████████▍| 1.1 MB 11.1 MB/s eta 0:00:01\r\u001b[K     |███████████████████████████████▊| 1.1 MB 11.1 MB/s eta 0:00:01\r\u001b[K     |████████████████████████████████| 1.1 MB 11.1 MB/s \n",
            "\u001b[?25hRequirement already satisfied: typeguard>=2.7 in /usr/local/lib/python3.7/dist-packages (from tensorflow-addons) (2.7.1)\n",
            "Installing collected packages: tensorflow-addons\n",
            "Successfully installed tensorflow-addons-0.15.0\n"
          ]
        }
      ]
    },
    {
      "cell_type": "code",
      "metadata": {
        "id": "eUc6NTe7W8MT"
      },
      "source": [
        "# Hyperparameters\n",
        "\n",
        "npx = 28\n",
        "maxlen = npx*npx\n",
        "embed_dim = 128\n",
        "num_heads = 4\n",
        "num_vocab = 256\n",
        "num_layers = 4\n",
        "\n",
        "num_epochs = 4\n",
        "num_batch = 32"
      ],
      "execution_count": null,
      "outputs": []
    },
    {
      "cell_type": "code",
      "metadata": {
        "id": "NHCVRTXBW8MT"
      },
      "source": [
        "# Necessary imports\n",
        "\n",
        "import tensorflow as tf\n",
        "from tensorflow import keras\n",
        "from tensorflow.keras import layers\n",
        "import tensorflow_addons as tfa\n",
        "import numpy as np\n",
        "import matplotlib.pyplot as plt\n",
        "import matplotlib as mpl\n",
        "import sys\n",
        "import os\n",
        "\n",
        "TRAIN = True\n",
        "RETRAIN = False\n",
        "SAVE = False\n",
        "CREATE_NEW = True\n",
        "LOAD = False"
      ],
      "execution_count": null,
      "outputs": []
    },
    {
      "cell_type": "code",
      "metadata": {
        "id": "9wjvHTlNW8MU"
      },
      "source": [
        "# One block of the decoder\n",
        "\n",
        "def causal_attention_mask(batch_size, n_dest, n_src, dtype):\n",
        "  i = tf.range(n_dest)[:, None]\n",
        "  j = tf.range(n_src)\n",
        "  m = i >= j - n_src + n_dest\n",
        "  mask = tf.cast(m, dtype)\n",
        "  mask = tf.reshape(mask, [1, n_dest, n_src])\n",
        "  mult = tf.concat(\n",
        "      [tf.expand_dims(batch_size, -1), tf.constant([1, 1], dtype=tf.int32)], 0\n",
        "  )\n",
        "  return tf.tile(mask, mult)\n",
        "\n",
        "class TransformerBlock(layers.Layer):\n",
        "  def __init__(self, embed_dim, num_heads):\n",
        "    super(TransformerBlock, self).__init__()\n",
        "    self.att = layers.MultiHeadAttention(num_heads=num_heads, key_dim=embed_dim)\n",
        "    self.ffn = keras.Sequential(\n",
        "        [layers.Dense(embed_dim*4, activation=\"relu\"),\n",
        "         tfa.layers.GELU(),\n",
        "         layers.Dense(embed_dim, activation=\"relu\")]\n",
        "    )\n",
        "    self.layernorm1 = layers.LayerNormalization(epsilon=1e-6)\n",
        "    self.layernorm2 = layers.LayerNormalization(epsilon=1e-6)\n",
        "\n",
        "  def call(self, inputs):\n",
        "    input_shape = tf.shape(inputs)\n",
        "    batch_size = input_shape[0]\n",
        "    seq_len = input_shape[1]\n",
        "    causal_mask = causal_attention_mask(batch_size, seq_len, seq_len, tf.bool)\n",
        "    attn_output, weights = self.att(inputs, inputs, attention_mask=causal_mask, return_attention_scores=True)\n",
        "    out1 = self.layernorm1(inputs + attn_output)\n",
        "    ffn_output = self.ffn(out1)\n",
        "    return self.layernorm2(out1 + ffn_output)"
      ],
      "execution_count": null,
      "outputs": []
    },
    {
      "cell_type": "code",
      "metadata": {
        "id": "vt7b_xTRW8MU"
      },
      "source": [
        "# Embedding layer\n",
        "\n",
        "class TokenAndPositionEmbedding(layers.Layer):\n",
        "  def __init__(self, maxlen, vocab_size, embed_dim):\n",
        "    super(TokenAndPositionEmbedding, self).__init__()\n",
        "    self.token_emb = layers.Embedding(input_dim=vocab_size, output_dim=embed_dim)\n",
        "    self.pos_emb = layers.Embedding(input_dim=maxlen, output_dim=embed_dim)\n",
        "\n",
        "  def call(self, x):\n",
        "    maxlen = tf.shape(x)[-1]\n",
        "    positions = tf.range(start=0, limit=maxlen, delta=1)\n",
        "    positions = self.pos_emb(positions)\n",
        "    x = self.token_emb(x)\n",
        "    return x + positions"
      ],
      "execution_count": null,
      "outputs": []
    },
    {
      "cell_type": "code",
      "metadata": {
        "id": "N9GHXixnW8MU"
      },
      "source": [
        "# Here, I will take a 2d npx*npx sequence as input then train\n",
        "\n",
        "def create_model():\n",
        "  inputs = layers.Input(shape=(maxlen,), dtype=tf.int32)\n",
        "  embedding_layer = TokenAndPositionEmbedding(maxlen, num_vocab, embed_dim)\n",
        "  x = embedding_layer(inputs)\n",
        "  transformer_block = TransformerBlock(embed_dim, num_heads)\n",
        "  for i in range(num_layers):\n",
        "    x = transformer_block(x)\n",
        "  x = layers.LayerNormalization(epsilon=1e-6)(x)\n",
        "  outputs = layers.Dense(num_vocab)(x)\n",
        "  model = keras.Model(inputs=inputs, outputs=[outputs, x])\n",
        "\n",
        "  loss_fn = tf.keras.losses.SparseCategoricalCrossentropy(from_logits=True)\n",
        "\n",
        "  model.compile(\n",
        "      \"adam\", loss=[loss_fn, None],\n",
        "  )   # No loss and optimization based on word embeddings from transformer block\n",
        "  return model"
      ],
      "execution_count": null,
      "outputs": []
    },
    {
      "cell_type": "code",
      "metadata": {
        "id": "sEGqg4ThW8MU"
      },
      "source": [
        "if(CREATE_NEW):\n",
        "  model = create_model()\n",
        "elif (LOAD):\n",
        "  os.system(\"mkdir variables && mv variables.* variables\")\n",
        "  model = keras.models.load_model('./')"
      ],
      "execution_count": null,
      "outputs": []
    },
    {
      "cell_type": "code",
      "metadata": {
        "colab": {
          "base_uri": "https://localhost:8080/"
        },
        "id": "_bE2sMUVW8MU",
        "outputId": "d994337f-03eb-44bf-829d-cad04589c17f"
      },
      "source": [
        "model.summary()"
      ],
      "execution_count": null,
      "outputs": [
        {
          "output_type": "stream",
          "name": "stdout",
          "text": [
            "Model: \"model_3\"\n",
            "__________________________________________________________________________________________________\n",
            " Layer (type)                   Output Shape         Param #     Connected to                     \n",
            "==================================================================================================\n",
            " input_4 (InputLayer)           [(None, 784)]        0           []                               \n",
            "                                                                                                  \n",
            " token_and_position_embedding_3  (None, 784, 128)    133120      ['input_4[0][0]']                \n",
            "  (TokenAndPositionEmbedding)                                                                     \n",
            "                                                                                                  \n",
            " transformer_block_3 (Transform  (None, 784, 128)    396032      ['token_and_position_embedding_3[\n",
            " erBlock)                                                        0][0]',                          \n",
            "                                                                  'transformer_block_3[0][0]',    \n",
            "                                                                  'transformer_block_3[1][0]',    \n",
            "                                                                  'transformer_block_3[2][0]']    \n",
            "                                                                                                  \n",
            " layer_normalization_11 (LayerN  (None, 784, 128)    256         ['transformer_block_3[3][0]']    \n",
            " ormalization)                                                                                    \n",
            "                                                                                                  \n",
            " dense_11 (Dense)               (None, 784, 256)     33024       ['layer_normalization_11[0][0]'] \n",
            "                                                                                                  \n",
            "==================================================================================================\n",
            "Total params: 562,432\n",
            "Trainable params: 562,432\n",
            "Non-trainable params: 0\n",
            "__________________________________________________________________________________________________\n"
          ]
        }
      ]
    },
    {
      "cell_type": "code",
      "metadata": {
        "colab": {
          "base_uri": "https://localhost:8080/",
          "height": 532
        },
        "id": "9aF_WuEVW8MV",
        "outputId": "2d679334-947e-460f-ce1e-8acf3f7f1aa8"
      },
      "source": [
        "tf.keras.utils.plot_model(model, show_shapes=True)"
      ],
      "execution_count": null,
      "outputs": [
        {
          "output_type": "execute_result",
          "data": {
            "image/png": "[encoded data removed]",
            "text/plain": [
              "<IPython.core.display.Image object>"
            ]
          },
          "metadata": {},
          "execution_count": 64
        }
      ]
    },
    {
      "cell_type": "code",
      "metadata": {
        "id": "hH-8k9M2W8MV"
      },
      "source": [
        "# The model is fine above below will be the data processing and training\n",
        "# currently let it run on normal mnist data set\n",
        "\n",
        "num_classes = 10\n",
        "input_shape = (npx, npx, 1)\n",
        "\n",
        "(x_train, y_train), (x_test, y_test) = keras.datasets.mnist.load_data()\n",
        "\n",
        "x_train = tf.expand_dims(x_train, axis=-1)\n",
        "x_test = tf.expand_dims(x_test, axis=-1)\n",
        "\n",
        "x_train = x_train[:10000, :]\n",
        "\n",
        "x_train = tf.cast(tf.reshape(x_train, (x_train.shape[0], npx**2)), tf.int32)\n",
        "x_test = tf.cast(tf.reshape(x_test, (x_test.shape[0], npx**2)), tf.int32)\n",
        "\n",
        "y_train = tf.cast(x_train, tf.int32)\n",
        "y_test = tf.cast(x_test, tf.int32)\n",
        "\n",
        "sos = -1*tf.zeros((x_train.shape[0], 1), dtype=tf.int32)\n",
        "x_train = tf.concat([sos, x_train[:, :-1]], 1)\n",
        "x_test = tf.concat([sos, x_test[:, :-1]], 1)\n",
        "\n",
        "# cropping the test images into half and padding the rest with zeros\n",
        "# mask = [1 if i < maxlen//2 else 0 for i in range(maxlen)]\n",
        "# x_test = x_test*mask\n",
        "x_test = x_test[:, :maxlen//2]"
      ],
      "execution_count": null,
      "outputs": []
    },
    {
      "cell_type": "code",
      "metadata": {
        "colab": {
          "base_uri": "https://localhost:8080/"
        },
        "id": "cSdv-5R1W8MV",
        "outputId": "fa3721fc-96ec-4bd3-95fe-96d6faf673ab"
      },
      "source": [
        "if(TRAIN or RETRAIN):\n",
        "  history = model.fit(\n",
        "      x_train, y_train, batch_size=num_batch, epochs=num_epochs\n",
        "  )"
      ],
      "execution_count": null,
      "outputs": [
        {
          "output_type": "stream",
          "name": "stdout",
          "text": [
            "Epoch 1/4\n",
            "313/313 [==============================] - 315s 990ms/step - loss: 0.9738 - dense_11_loss: 0.9738\n",
            "Epoch 2/4\n",
            "313/313 [==============================] - 310s 990ms/step - loss: 0.8408 - dense_11_loss: 0.8408\n",
            "Epoch 3/4\n",
            "313/313 [==============================] - 310s 991ms/step - loss: 0.7379 - dense_11_loss: 0.7379\n",
            "Epoch 4/4\n",
            "313/313 [==============================] - 310s 990ms/step - loss: 0.7026 - dense_11_loss: 0.7026\n"
          ]
        }
      ]
    },
    {
      "cell_type": "code",
      "metadata": {
        "colab": {
          "base_uri": "https://localhost:8080/"
        },
        "id": "xf3Ts-ETW8MV",
        "outputId": "7f48c43d-a999-4475-e47a-cbbd39289ce2"
      },
      "source": [
        "SAVE = True\n",
        "if(SAVE):\n",
        "  model.save('./')"
      ],
      "execution_count": null,
      "outputs": [
        {
          "output_type": "stream",
          "name": "stderr",
          "text": [
            "WARNING:absl:Found untraced functions such as embedding_6_layer_call_fn, embedding_6_layer_call_and_return_conditional_losses, embedding_7_layer_call_fn, embedding_7_layer_call_and_return_conditional_losses, multi_head_attention_3_layer_call_fn while saving (showing 5 of 55). These functions will not be directly callable after loading.\n"
          ]
        },
        {
          "output_type": "stream",
          "name": "stdout",
          "text": [
            "INFO:tensorflow:Assets written to: ./assets\n"
          ]
        },
        {
          "output_type": "stream",
          "name": "stderr",
          "text": [
            "INFO:tensorflow:Assets written to: ./assets\n"
          ]
        }
      ]
    },
    {
      "cell_type": "code",
      "metadata": {
        "colab": {
          "base_uri": "https://localhost:8080/"
        },
        "id": "vQhfUw6nW8MW",
        "outputId": "03dfc4b0-d57b-4203-d193-81d333fc96fa"
      },
      "source": [
        "!ls -lRah"
      ],
      "execution_count": null,
      "outputs": [
        {
          "output_type": "stream",
          "name": "stdout",
          "text": [
            ".:\n",
            "total 988K\n",
            "drwxr-xr-x 1 root root 4.0K Nov 21 09:25 .\n",
            "drwxr-xr-x 1 root root 4.0K Nov 21 06:51 ..\n",
            "drwxr-xr-x 2 root root 4.0K Nov 21 07:55 assets\n",
            "drwxr-xr-x 4 root root 4.0K Nov 18 14:35 .config\n",
            "-rw-r--r-- 1 root root  21K Nov 21 09:25 keras_metadata.pb\n",
            "-rw-r--r-- 1 root root  44K Nov 21 09:04 model.png\n",
            "drwxr-xr-x 1 root root 4.0K Nov 18 14:36 sample_data\n",
            "-rw-r--r-- 1 root root 893K Nov 21 09:25 saved_model.pb\n",
            "drwxr-xr-x 2 root root 4.0K Nov 21 09:25 variables\n",
            "\n",
            "./assets:\n",
            "total 8.0K\n",
            "drwxr-xr-x 2 root root 4.0K Nov 21 07:55 .\n",
            "drwxr-xr-x 1 root root 4.0K Nov 21 09:25 ..\n",
            "\n",
            "./.config:\n",
            "total 36K\n",
            "drwxr-xr-x 4 root root 4.0K Nov 18 14:35 .\n",
            "drwxr-xr-x 1 root root 4.0K Nov 21 09:25 ..\n",
            "-rw-r--r-- 1 root root    7 Nov 18 14:35 active_config\n",
            "-rw-r--r-- 1 root root    0 Nov 18 14:35 config_sentinel\n",
            "drwxr-xr-x 2 root root 4.0K Nov 18 14:35 configurations\n",
            "-rw------- 1 root root    5 Jan  1  2040 gce\n",
            "-rw-r--r-- 1 root root    3 Nov 18 14:34 .last_opt_in_prompt.yaml\n",
            "-rw-r--r-- 1 root root   37 Nov 18 14:35 .last_survey_prompt.yaml\n",
            "-rw-r--r-- 1 root root  135 Nov 18 14:35 .last_update_check.json\n",
            "drwxr-xr-x 3 root root 4.0K Nov 18 14:34 logs\n",
            "\n",
            "./.config/configurations:\n",
            "total 12K\n",
            "drwxr-xr-x 2 root root 4.0K Nov 18 14:35 .\n",
            "drwxr-xr-x 4 root root 4.0K Nov 18 14:35 ..\n",
            "-rw-r--r-- 1 root root   94 Nov 18 14:35 config_default\n",
            "\n",
            "./.config/logs:\n",
            "total 12K\n",
            "drwxr-xr-x 3 root root 4.0K Nov 18 14:34 .\n",
            "drwxr-xr-x 4 root root 4.0K Nov 18 14:35 ..\n",
            "drwxr-xr-x 2 root root 4.0K Nov 18 14:35 2021.11.18\n",
            "\n",
            "./.config/logs/2021.11.18:\n",
            "total 64K\n",
            "drwxr-xr-x 2 root root 4.0K Nov 18 14:35 .\n",
            "drwxr-xr-x 3 root root 4.0K Nov 18 14:34 ..\n",
            "-rw-r--r-- 1 root root  28K Nov 18 14:35 14.34.49.152157.log\n",
            "-rw-r--r-- 1 root root  389 Nov 18 14:35 14.35.09.738473.log\n",
            "-rw-r--r-- 1 root root  11K Nov 18 14:35 14.35.29.959577.log\n",
            "-rw-r--r-- 1 root root  389 Nov 18 14:35 14.35.36.918574.log\n",
            "-rw-r--r-- 1 root root  625 Nov 18 14:35 14.35.57.849518.log\n",
            "-rw-r--r-- 1 root root  620 Nov 18 14:35 14.35.58.667492.log\n",
            "\n",
            "./sample_data:\n",
            "total 55M\n",
            "drwxr-xr-x 1 root root 4.0K Nov 18 14:36 .\n",
            "drwxr-xr-x 1 root root 4.0K Nov 21 09:25 ..\n",
            "-rwxr-xr-x 1 root root 1.7K Jan  1  2000 anscombe.json\n",
            "-rw-r--r-- 1 root root 295K Nov 18 14:36 california_housing_test.csv\n",
            "-rw-r--r-- 1 root root 1.7M Nov 18 14:36 california_housing_train.csv\n",
            "-rw-r--r-- 1 root root  18M Nov 18 14:36 mnist_test.csv\n",
            "-rw-r--r-- 1 root root  35M Nov 18 14:36 mnist_train_small.csv\n",
            "-rwxr-xr-x 1 root root  930 Jan  1  2000 README.md\n",
            "\n",
            "./variables:\n",
            "total 6.5M\n",
            "drwxr-xr-x 2 root root 4.0K Nov 21 09:25 .\n",
            "drwxr-xr-x 1 root root 4.0K Nov 21 09:25 ..\n",
            "-rw-r--r-- 1 root root 6.5M Nov 21 09:25 variables.data-00000-of-00001\n",
            "-rw-r--r-- 1 root root 5.0K Nov 21 09:25 variables.index\n"
          ]
        }
      ]
    },
    {
      "cell_type": "markdown",
      "metadata": {
        "id": "2mRTEcYbZHk4"
      },
      "source": [
        "## Utility function"
      ]
    },
    {
      "cell_type": "code",
      "metadata": {
        "id": "5Am8E6GvZKb4"
      },
      "source": [
        "def getPixel(oneHots):\n",
        "  \"\"\"Converts a 1-Hot vector to its pixel value\"\"\"\n",
        "  return tf.math.argmax(oneHots, axis=-1)"
      ],
      "execution_count": null,
      "outputs": []
    },
    {
      "cell_type": "markdown",
      "metadata": {
        "id": "jb9PNyTUW8MW"
      },
      "source": [
        "## Generation"
      ]
    },
    {
      "cell_type": "code",
      "metadata": {
        "id": "3c6dUZAcmT2H"
      },
      "source": [
        "num_samples = 4"
      ],
      "execution_count": null,
      "outputs": []
    },
    {
      "cell_type": "code",
      "metadata": {
        "colab": {
          "base_uri": "https://localhost:8080/"
        },
        "id": "H5p-2WCaXT75",
        "outputId": "0ee5b4b4-2396-4c01-98db-31855ef83ac0"
      },
      "source": [
        "# Image generation\n",
        "\n",
        "sample = x_test[:num_samples]\n",
        "\n",
        "sample.shape"
      ],
      "execution_count": null,
      "outputs": [
        {
          "output_type": "execute_result",
          "data": {
            "text/plain": [
              "TensorShape([4, 392])"
            ]
          },
          "metadata": {},
          "execution_count": 71
        }
      ]
    },
    {
      "cell_type": "code",
      "metadata": {
        "id": "-qhpPYj1iAiC"
      },
      "source": [
        "def predict_rest(context):\n",
        "  \"\"\"This reconstructs one image\"\"\"\n",
        "  start_tokens = [_ for _ in context]\n",
        "  num_tokens_generated = 0\n",
        "  tokens_generated = []\n",
        "  while num_tokens_generated < (maxlen-maxlen//2):\n",
        "    pad_len = maxlen - len(start_tokens)\n",
        "    sample_index = len(start_tokens) - 1\n",
        "    if pad_len < 0:\n",
        "      x = start_tokens[:maxlen]\n",
        "      sample_index = maxlen - 1\n",
        "    elif pad_len > 0:\n",
        "      x = start_tokens + [0] * pad_len\n",
        "    else:\n",
        "      x = start_tokens\n",
        "    x = tf.expand_dims(tf.convert_to_tensor(x, dtype=tf.int64), axis=0)\n",
        "    y, _ = model.predict(x)\n",
        "    sample_token = getPixel(y[0][sample_index])\n",
        "    tokens_generated.append(sample_token)\n",
        "    start_tokens.append(sample_token)\n",
        "    num_tokens_generated = len(tokens_generated)\n",
        "  return start_tokens\n",
        "\n",
        "random_gen = [predict_rest(img) for img in sample]"
      ],
      "execution_count": null,
      "outputs": []
    },
    {
      "cell_type": "code",
      "metadata": {
        "id": "Iuf7Gy-egKF4"
      },
      "source": [
        "random_gen = [tf.convert_to_tensor(img, dtype=tf.int64).numpy() for img in random_gen]"
      ],
      "execution_count": null,
      "outputs": []
    },
    {
      "cell_type": "code",
      "metadata": {
        "colab": {
          "base_uri": "https://localhost:8080/"
        },
        "id": "zVY0cBE7hzML",
        "outputId": "cfa7554f-623e-4231-cdfc-c1f16713f5a1"
      },
      "source": [
        "tf.convert_to_tensor(random_gen).shape"
      ],
      "execution_count": null,
      "outputs": [
        {
          "output_type": "execute_result",
          "data": {
            "text/plain": [
              "TensorShape([4, 784])"
            ]
          },
          "metadata": {},
          "execution_count": 74
        }
      ]
    },
    {
      "cell_type": "code",
      "metadata": {
        "id": "LcefjvBkW8MX"
      },
      "source": [
        "reshapes = []\n",
        "\n",
        "for i in range(len(random_gen)):\n",
        "  img = random_gen[i]\n",
        "\n",
        "  img = np.reshape(img, (npx, npx))\n",
        "  reshapes.append(img)\n",
        "\n",
        "reshapes = np.asarray(reshapes)\n",
        "\n",
        "sample = x_test[:num_samples]\n",
        "sample = [list(img) + [0]*(maxlen//2) for img in sample]\n",
        "sample = np.reshape(sample, (len(sample), npx, npx))"
      ],
      "execution_count": null,
      "outputs": []
    },
    {
      "cell_type": "code",
      "metadata": {
        "colab": {
          "base_uri": "https://localhost:8080/"
        },
        "id": "owRDW3-GW8MX",
        "outputId": "85252894-108a-417f-a3de-73daa795b2f4"
      },
      "source": [
        "reshapes.shape"
      ],
      "execution_count": null,
      "outputs": [
        {
          "output_type": "execute_result",
          "data": {
            "text/plain": [
              "(4, 28, 28)"
            ]
          },
          "metadata": {},
          "execution_count": 76
        }
      ]
    },
    {
      "cell_type": "code",
      "metadata": {
        "colab": {
          "base_uri": "https://localhost:8080/",
          "height": 322
        },
        "id": "DcJFmMHOW8MY",
        "outputId": "3895da6a-855e-4c70-9eaf-dddb3a4f7f75"
      },
      "source": [
        "fig = plt.figure(figsize=(9, 5))\n",
        "\n",
        "for i in range(num_samples*2):\n",
        "  sub = fig.add_subplot(num_samples, 2, i+1)\n",
        "  if(i%2):\n",
        "    sub.imshow(reshapes[int(i/2)], cmap='gray')\n",
        "  else:\n",
        "    sub.imshow(sample[int(i/2)], cmap='gray')"
      ],
      "execution_count": null,
      "outputs": [
        {
          "output_type": "display_data",
          "data": {
            "image/png": "[encoded data removed]",
            "text/plain": [
              "<Figure size 648x360 with 8 Axes>"
            ]
          },
          "metadata": {
            "needs_background": "light"
          }
        }
      ]
    }
  ]
}